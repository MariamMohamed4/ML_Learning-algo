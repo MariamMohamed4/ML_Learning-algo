{
 "cells": [
  {
   "cell_type": "code",
   "execution_count": 31,
   "metadata": {},
   "outputs": [],
   "source": [
    "import numpy as np\n",
    "import matplotlib.pyplot as plt\n",
    "import math\n",
    "from sklearn.metrics import r2_score\n"
   ]
  },
  {
   "cell_type": "code",
   "execution_count": 32,
   "metadata": {},
   "outputs": [],
   "source": [
    "x = np.linspace(0,20)\n",
    "a=-2\n",
    "b=1\n",
    "y= a*x + b"
   ]
  },
  {
   "cell_type": "code",
   "execution_count": 109,
   "metadata": {},
   "outputs": [],
   "source": [
    "def Ada_grad(x , y, alpha ,iterations ):\n",
    "        theta_0 = 0\n",
    "        theta_1 = 1\n",
    "        v0 = 0\n",
    "        v1 = 0\n",
    "        epsilon =1e-2\n",
    "       \n",
    "        for i in range(iterations):\n",
    "            hypothis= theta_0 + theta_1 * x\n",
    "            loss1= np.square(np.subtract((hypothis) , y) )\n",
    "            cost = (1/len(y)) * np.sum((loss1)**2)\n",
    "            grad0 = (1/len(y))*np.sum(hypothis - y)\n",
    "            grad1 = (1/(len(y))) * np.sum((hypothis - y) * x)\n",
    "            vt0 = v0 + (grad0)**2\n",
    "            vt1 = v1 + (grad1)**2\n",
    "            theta_0 = theta_0  - (alpha / (np.sqrt(vt0) + epsilon) )* grad0 \n",
    "            theta_1 = theta_1  - (alpha / (np.sqrt(vt1) + epsilon) )* grad1 \n",
    "            \n",
    "        return theta_0, theta_1 , cost\n",
    "    \n"
   ]
  },
  {
   "cell_type": "code",
   "execution_count": 110,
   "metadata": {},
   "outputs": [],
   "source": [
    "def predict(theta_0 , theta_1 , x):\n",
    "    return theta_0 + theta_1 * x"
   ]
  },
  {
   "cell_type": "code",
   "execution_count": 111,
   "metadata": {},
   "outputs": [
    {
     "name": "stdout",
     "output_type": "stream",
     "text": [
      "99.9974152833084\n"
     ]
    }
   ],
   "source": [
    "theta0,theta1,costt=Ada_grad(x , y,  0.01,1500 )\n",
    "y_pred = predict(theta0 , theta1 , x)\n",
    "#print(y_pred)\n",
    "accuracy=r2_score(y,y_pred)\n",
    "print(accuracy*100)"
   ]
  },
  {
   "cell_type": "code",
   "execution_count": 98,
   "metadata": {},
   "outputs": [
    {
     "data": {
      "text/plain": [
       "[<matplotlib.lines.Line2D at 0x72d2c156a0>]"
      ]
     },
     "execution_count": 98,
     "metadata": {},
     "output_type": "execute_result"
    },
    {
     "data": {
      "image/png": "[encoded data removed]",
      "text/plain": [
       "<Figure size 432x288 with 1 Axes>"
      ]
     },
     "metadata": {
      "needs_background": "light"
     },
     "output_type": "display_data"
    }
   ],
   "source": [
    "plt.scatter(x,y)\n",
    "plt.plot(x , y_pred)"
   ]
  },
  {
   "cell_type": "code",
   "execution_count": 99,
   "metadata": {},
   "outputs": [],
   "source": [
    "def RMS_Prop(x , y, alpha ,iterations):\n",
    "        theta_0 = 0\n",
    "        theta_1 = 1\n",
    "        v0 = 0\n",
    "        v1 = 0\n",
    "        epsilon =1e-2\n",
    "        beta = 0.9\n",
    "       \n",
    "        for i in range(iterations):\n",
    "            hypothis= theta_0 + theta_1 * x\n",
    "            loss1= np.square(np.subtract((hypothis) , y) )\n",
    "            cost = (1/len(y)) * np.sum((loss1)**2)\n",
    "            grad0 = (1/len(y))*np.sum(hypothis - y)\n",
    "            grad1 = (1/(len(y))) * np.sum((hypothis - y) * x)\n",
    "            vt0 = beta*v0 + (1-beta)*(grad0)**2\n",
    "            vt1 = beta*v1 + (1-beta)*(grad1)**2\n",
    "            theta_0 = theta_0  - (alpha / (np.sqrt(vt0) + epsilon) )* grad0 \n",
    "            theta_1 = theta_1  - (alpha / (np.sqrt(vt1) + epsilon) )* grad1 \n",
    "            \n",
    "        return theta_0, theta_1 , cost\n",
    "    "
   ]
  },
  {
   "cell_type": "code",
   "execution_count": 104,
   "metadata": {},
   "outputs": [
    {
     "name": "stdout",
     "output_type": "stream",
     "text": [
      "99.97303958465932\n"
     ]
    }
   ],
   "source": [
    "theta_0,theta_1,cost=RMS_Prop(x , y,  0.01,1500 )\n",
    "#print(cost)\n",
    "ypred = predict(theta_0 , theta_1 , x)\n",
    "#print(ypred)\n",
    "accuracy=r2_score(y,ypred)\n",
    "print(accuracy*100)"
   ]
  },
  {
   "cell_type": "code",
   "execution_count": 105,
   "metadata": {},
   "outputs": [
    {
     "data": {
      "text/plain": [
       "[<matplotlib.lines.Line2D at 0x72d2cc5a90>]"
      ]
     },
     "execution_count": 105,
     "metadata": {},
     "output_type": "execute_result"
    },
    {
     "data": {
      "image/png": "[encoded data removed]",
      "text/plain": [
       "<Figure size 432x288 with 1 Axes>"
      ]
     },
     "metadata": {
      "needs_background": "light"
     },
     "output_type": "display_data"
    }
   ],
   "source": [
    "plt.scatter(x,y)\n",
    "plt.plot(x,ypred)"
   ]
  },
  {
   "cell_type": "code",
   "execution_count": 153,
   "metadata": {},
   "outputs": [],
   "source": [
    "def Adam(x , y, alpha ,iterations):\n",
    "        theta_0 = 0\n",
    "        theta_1 = 1\n",
    "        v0 = 0\n",
    "        v1 = 0\n",
    "        epsilon =1e-2\n",
    "        beta2 = 0.999\n",
    "        beta1 =0.9 \n",
    "        m0 = 0\n",
    "        m1 = 0\n",
    "       \n",
    "        for i in range(iterations):\n",
    "            hypothis= theta_0 + theta_1 * x\n",
    "            loss1= np.square(np.subtract((hypothis) , y) )\n",
    "            cost = (1/len(y)) * np.sum((loss1)**2)\n",
    "            grad0 = (1/len(y))*np.sum(hypothis - y)\n",
    "            grad1 = (1/(len(y))) * np.sum((hypothis - y) * x)\n",
    "            vt0 = beta2*v0 + (1-beta2)*(grad0)**2\n",
    "            vt1 = beta2*v1 + (1-beta2)*(grad1)**2\n",
    "            mt0 = beta1*m0 + (1-beta1)*grad0\n",
    "            mt1 = beta1*m1 + (1-beta1)*grad1\n",
    "            theta_0 = theta_0  - (alpha / (np.sqrt(vt0) + epsilon) )* mt0\n",
    "            theta_1 = theta_1  - (alpha / (np.sqrt(vt1) + epsilon) )* mt1 \n",
    "            \n",
    "        return theta_0, theta_1 , cost\n",
    "    "
   ]
  },
  {
   "cell_type": "code",
   "execution_count": 160,
   "metadata": {},
   "outputs": [
    {
     "name": "stdout",
     "output_type": "stream",
     "text": [
      "0.0012050714843043241\n",
      "99.98128341703178\n"
     ]
    }
   ],
   "source": [
    "theta00,theta11,costtt=Adam(x , y,  0.01,1500)\n",
    "print(costtt)\n",
    "pred_y = predict(theta00 , theta11 , x)\n",
    "#print(pred_y)\n",
    "#print(y)\n",
    "accuracy=r2_score(y,pred_y)\n",
    "print(accuracy*100)"
   ]
  },
  {
   "cell_type": "code",
   "execution_count": 165,
   "metadata": {},
   "outputs": [
    {
     "data": {
      "text/plain": [
       "[<matplotlib.lines.Line2D at 0x72d48c08d0>]"
      ]
     },
     "execution_count": 165,
     "metadata": {},
     "output_type": "execute_result"
    },
    {
     "data": {
      "image/png": "[encoded data removed]",
      "text/plain": [
       "<Figure size 432x288 with 1 Axes>"
      ]
     },
     "metadata": {
      "needs_background": "light"
     },
     "output_type": "display_data"
    }
   ],
   "source": [
    "plt.scatter(x,y)\n",
    "plt.plot(x,pred_y)\n",
    "#plt.plot(costtt)"
   ]
  },
  {
   "cell_type": "code",
   "execution_count": null,
   "metadata": {},
   "outputs": [],
   "source": []
  }
 ],
 "metadata": {
  "kernelspec": {
   "display_name": "Python 3 (ipykernel)",
   "language": "python",
   "name": "python3"
  },
  "language_info": {
   "codemirror_mode": {
    "name": "ipython",
    "version": 3
   },
   "file_extension": ".py",
   "mimetype": "text/x-python",
   "name": "python",
   "nbconvert_exporter": "python",
   "pygments_lexer": "ipython3",
   "version": "3.9.12"
  }
 },
 "nbformat": 4,
 "nbformat_minor": 4
}
